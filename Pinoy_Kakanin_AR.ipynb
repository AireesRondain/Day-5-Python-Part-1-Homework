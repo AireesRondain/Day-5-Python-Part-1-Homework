{
  "nbformat": 4,
  "nbformat_minor": 0,
  "metadata": {
    "colab": {
      "name": "Pinoy_Kakanin_AR.ipynb",
      "provenance": [],
      "collapsed_sections": [],
      "authorship_tag": "ABX9TyOUYQ4/UfZN2/CTtnbRuDuK",
      "include_colab_link": true
    },
    "kernelspec": {
      "name": "python3",
      "display_name": "Python 3"
    }
  },
  "cells": [
    {
      "cell_type": "markdown",
      "metadata": {
        "id": "view-in-github",
        "colab_type": "text"
      },
      "source": [
        "<a href=\"https://colab.research.google.com/github/AireesRondain/Day-5-Python-Part-1-Homework/blob/master/Pinoy_Kakanin_AR.ipynb\" target=\"_parent\"><img src=\"https://colab.research.google.com/assets/colab-badge.svg\" alt=\"Open In Colab\"/></a>"
      ]
    },
    {
      "cell_type": "code",
      "metadata": {
        "id": "QInWK18gCt5V",
        "colab_type": "code",
        "colab": {
          "base_uri": "https://localhost:8080/",
          "height": 462
        },
        "outputId": "6142179f-aaac-4714-f695-905f4c9f8a1c"
      },
      "source": [
        "pinoy_kakanin = {} #create an empty dictionary\n",
        "\n",
        "pinoy_kakanin['biko'] = 'It is made of coconut milk, brown sugar, and glutinous rice. It is usually topped with latik.'\n",
        "pinoy_kakanin['bibingka'] = 'It is usually eaten for breakfast, especially during the Christmas season. It is traditionally cooked in clay pots lined with leaves.'\n",
        "pinoy_kakanin['suman'] = 'It is made from glutinous rice cooked in coconut milk, often wrapped in banana leaves, coconut leaves, or buli or buri palmleav es for steaming. It is usually eaten sprinkled with sugar or laden with latik.'\n",
        "pinoy_kakanin['palitaw'] = 'From litaw, the Tagalog word for \"float\" or \"rise\", is a small, flat, sweet rice cake made from galapong-washed, soaked, and ground malagkit'\n",
        "pinoy_kakanin['turon'] = 'A Pinoy snack made of thinly sliced bananas (preferably saging na saba), dusted with brown sugar, rolled in a spring roll wrapper and fried.'\n",
        "pinoy_kakanin['puto bumbong'] = 'is a type of street food also traditionally served during the Christmas season.'\n",
        "pinoy_kakanin['sapin-sapin'] = 'colorful layers of glutinous rice and coconut dessert made from rice flour, coconut milk, sugar, water, flavoring and coloring. It is usually sprinkled with latik or toasted desiccated coconut flakes.'\n",
        "pinoy_kakanin['puto'] = 'are Filipino steamed rice cakes, eaten as is or as an accompaniment to a number of savoury dishes (most notably, dinuguan).'\n",
        "pinoy_kakanin['kutsinta'] = 'It is made from a mixture of tapioca or rice flour, brown sugar and lye, enhanced with yellow food coloring or annatto extract, and steamed in small ramekins.'\n",
        "pinoy_kakanin['maja blanca'] = 'made with coconut milk, sweet corn kernels, and toasted coconut.'\n",
        "\n",
        "def kakanin_game(score): #question and answer portion and scoring\n",
        "  for meaning in pinoy_kakanin.values():\n",
        "    print(\"\\nQuestion: %s\" % meaning)\n",
        "    answer = input(\"Answer: \")\n",
        "    if answer in pinoy_kakanin:\n",
        "      score = score + 1\n",
        "    else:\n",
        "      score = score + 0\n",
        "  return(score)\n",
        "\n",
        "\n",
        "print(\"\\n<<< Let's test your Pinoy Kakanin Level>>>\")\n",
        "name = input(\"\\nWhat is your name? \")\n",
        "\n",
        "print(\"\\nHi \" + name.title() + \". Game ka na ba?\")\n",
        "\n",
        "score = 0. #initialize variable\n",
        "dsize = len(pinoy_kakanin)  #get the size of the dictionary\n",
        "\n",
        "final_score = int(kakanin_game(score)) #converts to integer to remove trailing zero\n",
        "\n",
        "print(\"\\n\",name.title() + ',' + \" you scored \",final_score,\" out of\", dsize)\n",
        "\n",
        "percentage = final_score/dsize * 100  #converting to percentage score\n",
        "\n",
        "print(\"Your grade is: %0.2f\" % percentage,\"%\") #rounds of to 2 decimal places \n",
        "if percentage >= 70: #passing grade\n",
        "  print(\">>> Congratulations, you're a Certified Pinoy Kakainin Expert <<<\")\n",
        "else: \n",
        "  print(\">>> Sorry, kain pa more! <<<\")\n"
      ],
      "execution_count": null,
      "outputs": [
        {
          "output_type": "stream",
          "text": [
            "\n",
            "<<< Let's test your Pinoy Kakanin Level>>>\n",
            "\n",
            "What is your name? airees\n",
            "\n",
            "Hi Airees. Game ka na ba?\n",
            "\n",
            "Question: It is made of coconut milk, brown sugar, and glutinous rice. It is usually topped with latik.\n",
            "Answer: biko\n",
            "\n",
            "Question: It is usually eaten for breakfast, especially during the Christmas season. It is traditionally cooked in clay pots lined with leaves.\n",
            "Answer: bibingka\n",
            "\n",
            "Question: It is made from glutinous rice cooked in coconut milk, often wrapped in banana leaves, coconut leaves, or buli or buri palmleav es for steaming. It is usually eaten sprinkled with sugar or laden with latik.\n",
            "Answer: suman\n",
            "\n",
            "Question: It is made from a mixture of tapioca or rice flour, brown sugar and lye, enhanced with yellow food coloring or annatto extract, and steamed in small ramekins.\n",
            "Answer: kutsinta\n",
            "\n",
            "Question: made with coconut milk, sweet corn kernels, and toasted coconut.\n",
            "Answer: maja\n",
            "\n",
            " Airees, you scored  4  out of 5\n",
            "Your grade is: 80.00 %\n",
            ">>> Congratulations, you're a Certified Pinoy Kakainin Expert <<<\n"
          ],
          "name": "stdout"
        }
      ]
    },
    {
      "cell_type": "code",
      "metadata": {
        "id": "bSiW49ep6_0L",
        "colab_type": "code",
        "colab": {}
      },
      "source": [
        ""
      ],
      "execution_count": null,
      "outputs": []
    }
  ]
}